{
 "cells": [
  {
   "cell_type": "markdown",
   "metadata": {
    "id": "5eei5hdeDB5i"
   },
   "source": [
    "First Session"
   ]
  },
  {
   "cell_type": "code",
   "execution_count": 1,
   "metadata": {
    "colab": {
     "base_uri": "https://localhost:8080/"
    },
    "executionInfo": {
     "elapsed": 278,
     "status": "ok",
     "timestamp": 1611235384185,
     "user": {
      "displayName": "JB Abbas",
      "photoUrl": "https://lh3.googleusercontent.com/a-/AOh14GhTEGMJAPYzG0jTyyGZQg1TkQYe1FTxtngw913nCQ=s64",
      "userId": "16604751446320735538"
     },
     "user_tz": 300
    },
    "id": "DAUcof1OC6Ns",
    "outputId": "8edaa948-c4e0-42b2-debc-0d3d7dff2a5c"
   },
   "outputs": [
    {
     "name": "stdout",
     "output_type": "stream",
     "text": [
      "12\n",
      "84\n",
      "After assgining a new value for a : 8\n",
      "56\n"
     ]
    }
   ],
   "source": [
    "# Variable Naming Example\n",
    "a = 12\n",
    "\n",
    "# perform calculation with a formula\n",
    "answer = (a*2) + (a*5)\n",
    "print(a)\n",
    "print(answer)\n",
    "type(answer)\n",
    "\n",
    "a = 8\n",
    "answer = (a*2) + (a*5)                          # without this, your previous 'answer' would be repeated\n",
    "print(\"After assgining a new value for a :\",a)\n",
    "print(answer)"
   ]
  },
  {
   "cell_type": "code",
   "execution_count": 2,
   "metadata": {
    "colab": {
     "base_uri": "https://localhost:8080/"
    },
    "executionInfo": {
     "elapsed": 292,
     "status": "ok",
     "timestamp": 1611236368530,
     "user": {
      "displayName": "JB Abbas",
      "photoUrl": "https://lh3.googleusercontent.com/a-/AOh14GhTEGMJAPYzG0jTyyGZQg1TkQYe1FTxtngw913nCQ=s64",
      "userId": "16604751446320735538"
     },
     "user_tz": 300
    },
    "id": "QTPbO74gJ45H",
    "outputId": "d38c41f0-4532-4793-f5b7-bdc33dc9b03d"
   },
   "outputs": [
    {
     "name": "stdout",
     "output_type": "stream",
     "text": [
      "<class 'str'> 12\n",
      "<class 'int'> 12\n",
      "<class 'float'> 12\n"
     ]
    }
   ],
   "source": [
    "# Defining and changing/converting variable data types\n",
    "\n",
    "x = \"12\"\n",
    "print(type(x),x)\n",
    "type(x)\n",
    "\n",
    "# Changing the data types -> String to Int\n",
    "print(type(int(x)),x)\n",
    "\n",
    "# Changing the data types -> Int to Float\n",
    "print(type(float(x)),x)"
   ]
  },
  {
   "cell_type": "code",
   "execution_count": 3,
   "metadata": {
    "colab": {
     "base_uri": "https://localhost:8080/"
    },
    "executionInfo": {
     "elapsed": 416,
     "status": "ok",
     "timestamp": 1611236726121,
     "user": {
      "displayName": "JB Abbas",
      "photoUrl": "https://lh3.googleusercontent.com/a-/AOh14GhTEGMJAPYzG0jTyyGZQg1TkQYe1FTxtngw913nCQ=s64",
      "userId": "16604751446320735538"
     },
     "user_tz": 300
    },
    "id": "XJFuyAWbK0hM",
    "outputId": "a5d9e99d-dbc1-4d98-fe3a-b3a7570651ad"
   },
   "outputs": [
    {
     "name": "stdout",
     "output_type": "stream",
     "text": [
      "var1 + var2 : 23\n",
      "var1 - var2 : 17\n",
      "var1 * var2 : 60\n",
      "var1 / var2 : 6.666666666666667\n"
     ]
    }
   ],
   "source": [
    "# Arithmetic Operators Examples - using integer\n",
    "\n",
    "var_1 = 20\n",
    "var_2 = 3\n",
    "\n",
    "# Output of \"+\"\n",
    "print(\"var1 + var2 :\",var_1+var_2)\n",
    "\n",
    "# Output of \"-\"\n",
    "print(\"var1 - var2 :\",var_1-var_2)\n",
    "\n",
    "# Output of \"*\"\n",
    "print(\"var1 * var2 :\",var_1*var_2)\n",
    "\n",
    "# Output of \"/\"\n",
    "print(\"var1 / var2 :\",var_1/var_2)\n"
   ]
  },
  {
   "cell_type": "code",
   "execution_count": 4,
   "metadata": {
    "colab": {
     "base_uri": "https://localhost:8080/"
    },
    "executionInfo": {
     "elapsed": 766,
     "status": "ok",
     "timestamp": 1611236861394,
     "user": {
      "displayName": "JB Abbas",
      "photoUrl": "https://lh3.googleusercontent.com/a-/AOh14GhTEGMJAPYzG0jTyyGZQg1TkQYe1FTxtngw913nCQ=s64",
      "userId": "16604751446320735538"
     },
     "user_tz": 300
    },
    "id": "_gG16KvUMkdC",
    "outputId": "1e7ecd02-8f59-4f1d-e722-ee711c8fec32"
   },
   "outputs": [
    {
     "name": "stdout",
     "output_type": "stream",
     "text": [
      "HeyJohn\n"
     ]
    }
   ],
   "source": [
    "# Arithmetic Operators Examples - using Strings\n",
    "str1 = \"Hey\"\n",
    "str2 = \"John\"\n",
    "print(str1+str2)"
   ]
  },
  {
   "cell_type": "code",
   "execution_count": 5,
   "metadata": {
    "colab": {
     "base_uri": "https://localhost:8080/"
    },
    "executionInfo": {
     "elapsed": 291,
     "status": "ok",
     "timestamp": 1611237329827,
     "user": {
      "displayName": "JB Abbas",
      "photoUrl": "https://lh3.googleusercontent.com/a-/AOh14GhTEGMJAPYzG0jTyyGZQg1TkQYe1FTxtngw913nCQ=s64",
      "userId": "16604751446320735538"
     },
     "user_tz": 300
    },
    "id": "wkbsFaNdL_xv",
    "outputId": "a59b0938-3c9d-4c5b-94cb-3978cdf76c58"
   },
   "outputs": [
    {
     "name": "stdout",
     "output_type": "stream",
     "text": [
      "40\n",
      "400\n"
     ]
    }
   ],
   "source": [
    "# Assignment Operator Examples\n",
    "\n",
    "#c,d = 30,40                     # c = 30, d = 40, preference for quick coding, not recommended for projects\n",
    "\n",
    "a = 10\n",
    "b = 20\n",
    "v = a+b\n",
    "\n",
    "# example of \"+=\", v = v+a\n",
    "v+=a\n",
    "print(v)\n",
    "\n",
    "# example of \"*=\", v = v*a\n",
    "v*=a\n",
    "print(v)"
   ]
  },
  {
   "cell_type": "code",
   "execution_count": 6,
   "metadata": {
    "colab": {
     "base_uri": "https://localhost:8080/"
    },
    "executionInfo": {
     "elapsed": 323,
     "status": "ok",
     "timestamp": 1611237630015,
     "user": {
      "displayName": "JB Abbas",
      "photoUrl": "https://lh3.googleusercontent.com/a-/AOh14GhTEGMJAPYzG0jTyyGZQg1TkQYe1FTxtngw913nCQ=s64",
      "userId": "16604751446320735538"
     },
     "user_tz": 300
    },
    "id": "y0msxKXtOxa8",
    "outputId": "fde44577-7de3-4210-8d61-61bc0dfae961"
   },
   "outputs": [
    {
     "name": "stdout",
     "output_type": "stream",
     "text": [
      "x > y is:  False\n",
      "x == y is:  False\n",
      "x != y is:  True\n",
      "x >= y is:  False\n"
     ]
    }
   ],
   "source": [
    "# Comparison Operators Examples\n",
    "\n",
    "x = 200\n",
    "y = 350\n",
    "\n",
    "# Output: x > y False\n",
    "print(\"x > y is: \",x>y)\n",
    "\n",
    "# Output: x == y\n",
    "print(\"x == y is: \",x==y)\n",
    "\n",
    "# Output: x != y\n",
    "print(\"x != y is: \",x!=y)\n",
    "\n",
    "# Output: x >= y\n",
    "print(\"x >= y is: \",x>=y)"
   ]
  },
  {
   "cell_type": "code",
   "execution_count": 7,
   "metadata": {
    "colab": {
     "base_uri": "https://localhost:8080/"
    },
    "executionInfo": {
     "elapsed": 812,
     "status": "ok",
     "timestamp": 1611237885504,
     "user": {
      "displayName": "JB Abbas",
      "photoUrl": "https://lh3.googleusercontent.com/a-/AOh14GhTEGMJAPYzG0jTyyGZQg1TkQYe1FTxtngw913nCQ=s64",
      "userId": "16604751446320735538"
     },
     "user_tz": 300
    },
    "id": "4vW8q6F1P9t5",
    "outputId": "1bc38369-12c1-4bec-b250-7795491e424a"
   },
   "outputs": [
    {
     "name": "stdout",
     "output_type": "stream",
     "text": [
      "x AND y : False\n",
      "x OR y : True\n",
      "NOT x : False\n"
     ]
    }
   ],
   "source": [
    "# Logical Operators Examples\n",
    "\n",
    "x = True \n",
    "y = False\n",
    "\n",
    "print('x AND y :',x and y)\n",
    "print('x OR y :',x or y)\n",
    "print('NOT x :',not x)"
   ]
  },
  {
   "cell_type": "code",
   "execution_count": 8,
   "metadata": {
    "colab": {
     "base_uri": "https://localhost:8080/"
    },
    "executionInfo": {
     "elapsed": 289,
     "status": "ok",
     "timestamp": 1611239541288,
     "user": {
      "displayName": "JB Abbas",
      "photoUrl": "https://lh3.googleusercontent.com/a-/AOh14GhTEGMJAPYzG0jTyyGZQg1TkQYe1FTxtngw913nCQ=s64",
      "userId": "16604751446320735538"
     },
     "user_tz": 300
    },
    "id": "3QFXQztJQ0z1",
    "outputId": "f5518f8a-f699-4b51-ce0a-c62cbcd7d9e7"
   },
   "outputs": [
    {
     "name": "stdout",
     "output_type": "stream",
     "text": [
      "False\n",
      "True\n",
      "True\n",
      "False\n",
      "True\n"
     ]
    }
   ],
   "source": [
    "# Membership Operators Examples\n",
    "\n",
    "x = \"I love Python\"\n",
    "y = {1:\"computer\",2:\"programming\"}\n",
    "\n",
    "# Output: False\n",
    "print(\"hate\" in x)                     # has to be in the same case and order, if not found it will return false\n",
    "\n",
    "# Output: True\n",
    "print(\"Visual Basic\" not in x)\n",
    "\n",
    "# Output: True\n",
    "print(1 in y)\n",
    "\n",
    "# Output: False; as-is this checks the key in the dictionary\n",
    "print('programming' in y.keys())\n",
    "\n",
    "# Output: True; this will check value \"in\" dictionary; thanks Bayron\n",
    "print(\"computer\" in y.values())"
   ]
  },
  {
   "cell_type": "code",
   "execution_count": 9,
   "metadata": {
    "colab": {
     "base_uri": "https://localhost:8080/"
    },
    "executionInfo": {
     "elapsed": 426,
     "status": "ok",
     "timestamp": 1611285855835,
     "user": {
      "displayName": "JB Abbas",
      "photoUrl": "https://lh3.googleusercontent.com/a-/AOh14GhTEGMJAPYzG0jTyyGZQg1TkQYe1FTxtngw913nCQ=s64",
      "userId": "16604751446320735538"
     },
     "user_tz": 300
    },
    "id": "UCmiJhbeSc4I",
    "outputId": "e396449e-2af9-4017-f138-2e623113db9f"
   },
   "outputs": [
    {
     "name": "stdout",
     "output_type": "stream",
     "text": [
      "a1 in memory : 0x56107397f5e0\n",
      "b1 in memory : 0x56107397f5e0\n",
      "a2 in memory : 0x7fa052713630\n",
      "b2 in memory : 0x7fa052713630\n",
      "a3 in memory : 0x7fa04c405b40\n",
      "b3 in memory : 0x7fa04c404540\n",
      "a4 in memory : 0x7fa04c405200\n",
      "b4 in memory : 0x7fa04c405200\n",
      "a5 in memory : 0x7fa04c40b880\n",
      "b5 in memory : 0x7fa04c40b880\n",
      "True\n",
      "False\n",
      "True\n",
      "False\n",
      "False\n",
      "True\n",
      "True\n",
      "True\n"
     ]
    }
   ],
   "source": [
    "# Special Identity Operators Examples\n",
    "\n",
    "a1 = 200\n",
    "b1 = 200\n",
    "a2 = \"Python\"\n",
    "b2 = \"Python\"\n",
    "a3 = [\"Linux\",\"Windows\",\"Mac\"]\n",
    "b3 = [\"Linux\",\"Windows\",\"Mac\"]\n",
    "a4 = b4 = [1,2,3,4]\n",
    "a5 = b5 = [\"John\",\"Bill\",\"Bobby\"]\n",
    "\n",
    "# Location of values in memory\n",
    "print(\"a1 in memory :\",hex(id(a1)))\n",
    "print(\"b1 in memory :\",hex(id(b1)))\n",
    "print(\"a2 in memory :\",hex(id(a2)))\n",
    "print(\"b2 in memory :\",hex(id(b2)))\n",
    "print(\"a3 in memory :\",hex(id(a3)))\n",
    "print(\"b3 in memory :\",hex(id(b3)))\n",
    "print(\"a4 in memory :\",hex(id(a4)))\n",
    "print(\"b4 in memory :\",hex(id(b4)))\n",
    "print(\"a5 in memory :\",hex(id(a5)))\n",
    "print(\"b5 in memory :\",hex(id(b5)))\n",
    "\n",
    "print(a1 is b1)\n",
    "print(a1 is not b1)\n",
    "print(a2 is b2)\n",
    "print(a2 is not b2)\n",
    "print(a3 is b3)\n",
    "print(a3 is not b3)\n",
    "print(a4 is b4)\n",
    "print(a5 is b5)"
   ]
  },
  {
   "cell_type": "markdown",
   "metadata": {
    "id": "OfTHNhnYMRbb"
   },
   "source": [
    "Second Session"
   ]
  },
  {
   "cell_type": "code",
   "execution_count": 10,
   "metadata": {
    "colab": {
     "base_uri": "https://localhost:8080/"
    },
    "executionInfo": {
     "elapsed": 357,
     "status": "ok",
     "timestamp": 1611321818657,
     "user": {
      "displayName": "JB Abbas",
      "photoUrl": "https://lh3.googleusercontent.com/a-/AOh14GhTEGMJAPYzG0jTyyGZQg1TkQYe1FTxtngw913nCQ=s64",
      "userId": "16604751446320735538"
     },
     "user_tz": 300
    },
    "id": "oxqvfj0-Hdbx",
    "outputId": "1810200e-7343-4d1e-a446-3fdaa7db56d0"
   },
   "outputs": [
    {
     "name": "stdout",
     "output_type": "stream",
     "text": [
      "Hello world\n"
     ]
    }
   ],
   "source": [
    "# Basic function example\n",
    "\n",
    "def say_hello():\n",
    "  print(\"Hello world\")\n",
    "\n",
    "say_hello()"
   ]
  },
  {
   "cell_type": "code",
   "execution_count": 11,
   "metadata": {
    "colab": {
     "base_uri": "https://localhost:8080/"
    },
    "executionInfo": {
     "elapsed": 322,
     "status": "ok",
     "timestamp": 1611322148560,
     "user": {
      "displayName": "JB Abbas",
      "photoUrl": "https://lh3.googleusercontent.com/a-/AOh14GhTEGMJAPYzG0jTyyGZQg1TkQYe1FTxtngw913nCQ=s64",
      "userId": "16604751446320735538"
     },
     "user_tz": 300
    },
    "id": "CxtpgOLMQ7w_",
    "outputId": "fc4dde73-5898-431e-92f8-d1b6f12b7cc3"
   },
   "outputs": [
    {
     "name": "stdout",
     "output_type": "stream",
     "text": [
      "Top\n",
      "Hello user!\n",
      "Bottom\n",
      "<function sayHi at 0x7fa04cc5f700>\n"
     ]
    }
   ],
   "source": [
    "# Basic function example; flow of python's functions and code execution\n",
    "\n",
    "def sayHi():\n",
    "  print(\"Hello user!\")\n",
    "\n",
    "print(\"Top\")\n",
    "sayHi()\n",
    "print(\"Bottom\")\n",
    "print(sayHi)"
   ]
  },
  {
   "cell_type": "code",
   "execution_count": 12,
   "metadata": {
    "colab": {
     "base_uri": "https://localhost:8080/"
    },
    "executionInfo": {
     "elapsed": 326,
     "status": "ok",
     "timestamp": 1611322950258,
     "user": {
      "displayName": "JB Abbas",
      "photoUrl": "https://lh3.googleusercontent.com/a-/AOh14GhTEGMJAPYzG0jTyyGZQg1TkQYe1FTxtngw913nCQ=s64",
      "userId": "16604751446320735538"
     },
     "user_tz": 300
    },
    "id": "Wg1LBux0SWYN",
    "outputId": "dcfbb623-34a8-4477-b5fb-db338461b487"
   },
   "outputs": [
    {
     "name": "stdout",
     "output_type": "stream",
     "text": [
      "Hello world!\n"
     ]
    }
   ],
   "source": [
    "# Basic function example; returning a value\n",
    "\n",
    "def sayHi1():\n",
    "  greeting = \"Hello world!\"\n",
    "  return greeting\n",
    "\n",
    "sayHi1()\n",
    "print(sayHi1())"
   ]
  },
  {
   "cell_type": "code",
   "execution_count": 13,
   "metadata": {
    "colab": {
     "base_uri": "https://localhost:8080/"
    },
    "executionInfo": {
     "elapsed": 293,
     "status": "ok",
     "timestamp": 1611322958389,
     "user": {
      "displayName": "JB Abbas",
      "photoUrl": "https://lh3.googleusercontent.com/a-/AOh14GhTEGMJAPYzG0jTyyGZQg1TkQYe1FTxtngw913nCQ=s64",
      "userId": "16604751446320735538"
     },
     "user_tz": 300
    },
    "id": "hLspik2nTRyj",
    "outputId": "1c132213-cf17-4536-9bad-0a2aa982e343"
   },
   "outputs": [
    {
     "name": "stdout",
     "output_type": "stream",
     "text": [
      "9\n"
     ]
    }
   ],
   "source": [
    "# Basic function that returns a value\n",
    "\n",
    "def mltply(num):\n",
    "  return num*num\n",
    "\n",
    "mltply(3)\n",
    "print(mltply(3))"
   ]
  },
  {
   "cell_type": "code",
   "execution_count": 14,
   "metadata": {
    "colab": {
     "base_uri": "https://localhost:8080/"
    },
    "executionInfo": {
     "elapsed": 334,
     "status": "ok",
     "timestamp": 1611323255239,
     "user": {
      "displayName": "JB Abbas",
      "photoUrl": "https://lh3.googleusercontent.com/a-/AOh14GhTEGMJAPYzG0jTyyGZQg1TkQYe1FTxtngw913nCQ=s64",
      "userId": "16604751446320735538"
     },
     "user_tz": 300
    },
    "id": "VdLPtzPUUkhx",
    "outputId": "df4a78b6-8ba6-4bb6-8b5b-ae334aae162c"
   },
   "outputs": [
    {
     "name": "stdout",
     "output_type": "stream",
     "text": [
      "9\n",
      "0.8099999999999999\n"
     ]
    }
   ],
   "source": [
    "# Basic function example that returns a value, stores the result into a separate variable outside the function\n",
    "\n",
    "def mltply(num):\n",
    "  return num*num\n",
    "\n",
    "result = mltply(3)\n",
    "print(result)\n",
    "calc = result * .01\n",
    "result2 = mltply(calc)\n",
    "print(result2*100)"
   ]
  },
  {
   "cell_type": "code",
   "execution_count": 15,
   "metadata": {
    "colab": {
     "base_uri": "https://localhost:8080/"
    },
    "executionInfo": {
     "elapsed": 439,
     "status": "ok",
     "timestamp": 1611323592204,
     "user": {
      "displayName": "JB Abbas",
      "photoUrl": "https://lh3.googleusercontent.com/a-/AOh14GhTEGMJAPYzG0jTyyGZQg1TkQYe1FTxtngw913nCQ=s64",
      "userId": "16604751446320735538"
     },
     "user_tz": 300
    },
    "id": "gU68ynJsXcZr",
    "outputId": "2ddc0767-e769-4258-e814-525b361776d1"
   },
   "outputs": [
    {
     "name": "stdout",
     "output_type": "stream",
     "text": [
      "Hello  John\n",
      "Hello  Smith\n"
     ]
    }
   ],
   "source": [
    "# Call function with a parameter/argument, how the function uses the information\n",
    "\n",
    "def say_hello(name):\n",
    "  print(\"Hello \",name)\n",
    "\n",
    "say_hello(\"John\")\n",
    "say_hello(\"Smith\")"
   ]
  },
  {
   "cell_type": "code",
   "execution_count": 16,
   "metadata": {
    "colab": {
     "base_uri": "https://localhost:8080/"
    },
    "executionInfo": {
     "elapsed": 366,
     "status": "ok",
     "timestamp": 1611324900954,
     "user": {
      "displayName": "JB Abbas",
      "photoUrl": "https://lh3.googleusercontent.com/a-/AOh14GhTEGMJAPYzG0jTyyGZQg1TkQYe1FTxtngw913nCQ=s64",
      "userId": "16604751446320735538"
     },
     "user_tz": 300
    },
    "id": "xEiGOnElXvOz",
    "outputId": "3d55348c-67c8-4f35-a125-8db98d685b29"
   },
   "outputs": [
    {
     "name": "stdout",
     "output_type": "stream",
     "text": [
      "('hello x', 'hello y')\n",
      "('hello John', 'hello y')\n",
      "('hello John', 'hello Smith')\n",
      "('hello x', 'hello Smith')\n",
      "('hello Michael', 'hello Jackson')\n"
     ]
    }
   ],
   "source": [
    "# Call function, has multiple parameters with values, send arguments and return arguments\n",
    "\n",
    "def sayhi2(a_param='x',b_param='y'):\n",
    "  #greeting1 = 'hello {0}'.format(a_param)\n",
    "  #greeting2 = 'hello {0}'.format(b_param)\n",
    "  greeting1 = ('hello ' + a_param)\n",
    "  greeting2 = ('hello ' + b_param)\n",
    "  return greeting1, greeting2\n",
    "\n",
    "sayhi2()\n",
    "print(sayhi2())\n",
    "print(sayhi2(\"John\"))\n",
    "print(sayhi2(\"John\",\"Smith\"))\n",
    "print(sayhi2(b_param=\"Smith\"))\n",
    "print(sayhi2(a_param=\"Michael\",b_param=\"Jackson\"))\n",
    "#print(sayhi2(a_param=\"John\",\"Smith\"))             #Tharoon: Python thinks we are passing two values to a_param\n"
   ]
  },
  {
   "cell_type": "code",
   "execution_count": 17,
   "metadata": {
    "colab": {
     "base_uri": "https://localhost:8080/"
    },
    "executionInfo": {
     "elapsed": 536,
     "status": "ok",
     "timestamp": 1611324395390,
     "user": {
      "displayName": "JB Abbas",
      "photoUrl": "https://lh3.googleusercontent.com/a-/AOh14GhTEGMJAPYzG0jTyyGZQg1TkQYe1FTxtngw913nCQ=s64",
      "userId": "16604751446320735538"
     },
     "user_tz": 300
    },
    "id": "LXEcLro8aWOk",
    "outputId": "cabb068a-14c1-4439-b3cc-1bf877252e50"
   },
   "outputs": [
    {
     "name": "stdout",
     "output_type": "stream",
     "text": [
      "('hello John', 'hello Smith')\n"
     ]
    }
   ],
   "source": [
    "#Bayron question\n",
    "def sayhi2(a_param,b_param='y'):\n",
    "  #greeting1 = 'hello {0}'.format(a_param)\n",
    "  #greeting2 = 'hello {0}'.format(b_param)\n",
    "  greeting1 = ('hello ' + a_param)\n",
    "  greeting2 = ('hello ' + b_param)\n",
    "  return greeting1, greeting2\n",
    "\n",
    "print(sayhi2(a_param=\"John\",b_param=\"Smith\"))"
   ]
  },
  {
   "cell_type": "code",
   "execution_count": 18,
   "metadata": {
    "colab": {
     "base_uri": "https://localhost:8080/"
    },
    "executionInfo": {
     "elapsed": 353,
     "status": "ok",
     "timestamp": 1611325500592,
     "user": {
      "displayName": "JB Abbas",
      "photoUrl": "https://lh3.googleusercontent.com/a-/AOh14GhTEGMJAPYzG0jTyyGZQg1TkQYe1FTxtngw913nCQ=s64",
      "userId": "16604751446320735538"
     },
     "user_tz": 300
    },
    "id": "9pNapDnSXswM",
    "outputId": "0bdc42e1-b49c-4b68-8860-f912b5827a6e"
   },
   "outputs": [
    {
     "name": "stdout",
     "output_type": "stream",
     "text": [
      "[4, 6, 8, 12, 24, 18]\n"
     ]
    }
   ],
   "source": [
    "# Lambda simple example: from a list of random ints - filter only even numbers, use filter function which takes in a function and a list of arguments\n",
    "list1 = [1,5,4,6,8,12,24,18,9,17]\n",
    "list2 = list(filter(lambda x: (x%2 == 0), list1))\n",
    "print(list2)"
   ]
  },
  {
   "cell_type": "code",
   "execution_count": 19,
   "metadata": {
    "colab": {
     "base_uri": "https://localhost:8080/"
    },
    "executionInfo": {
     "elapsed": 372,
     "status": "ok",
     "timestamp": 1611325721431,
     "user": {
      "displayName": "JB Abbas",
      "photoUrl": "https://lh3.googleusercontent.com/a-/AOh14GhTEGMJAPYzG0jTyyGZQg1TkQYe1FTxtngw913nCQ=s64",
      "userId": "16604751446320735538"
     },
     "user_tz": 300
    },
    "id": "8FaPlTQMfZvu",
    "outputId": "c08a24f4-1ca7-44fc-9a73-26af56005166"
   },
   "outputs": [
    {
     "name": "stdout",
     "output_type": "stream",
     "text": [
      "Function result is:  55\n"
     ]
    }
   ],
   "source": [
    "# Function vs Lambda Function -> how to re-write\n",
    "\n",
    "# STEP1 - normal function\n",
    "def f(x):\n",
    "  return 10*x + 5\n",
    "\n",
    "f(5)\n",
    "print(\"Function result is: \",f(5))"
   ]
  },
  {
   "cell_type": "code",
   "execution_count": 20,
   "metadata": {
    "colab": {
     "base_uri": "https://localhost:8080/"
    },
    "executionInfo": {
     "elapsed": 386,
     "status": "ok",
     "timestamp": 1611325797163,
     "user": {
      "displayName": "JB Abbas",
      "photoUrl": "https://lh3.googleusercontent.com/a-/AOh14GhTEGMJAPYzG0jTyyGZQg1TkQYe1FTxtngw913nCQ=s64",
      "userId": "16604751446320735538"
     },
     "user_tz": 300
    },
    "id": "7shCWVDNf3c5",
    "outputId": "5123f70e-f072-44bc-a322-4317eee6620a"
   },
   "outputs": [
    {
     "data": {
      "text/plain": [
       "<function __main__.<lambda>(x)>"
      ]
     },
     "execution_count": 20,
     "metadata": {},
     "output_type": "execute_result"
    }
   ],
   "source": [
    "# STEP2 - repeat the same as a lambda function\n",
    "lambda x: 10*x+5\n",
    "#Running lambda by itself - won't necessarily give you any result, need to assign a variable to this lambda function"
   ]
  },
  {
   "cell_type": "code",
   "execution_count": 21,
   "metadata": {
    "colab": {
     "base_uri": "https://localhost:8080/"
    },
    "executionInfo": {
     "elapsed": 330,
     "status": "ok",
     "timestamp": 1611325932277,
     "user": {
      "displayName": "JB Abbas",
      "photoUrl": "https://lh3.googleusercontent.com/a-/AOh14GhTEGMJAPYzG0jTyyGZQg1TkQYe1FTxtngw913nCQ=s64",
      "userId": "16604751446320735538"
     },
     "user_tz": 300
    },
    "id": "kY9wxSdtgHFT",
    "outputId": "edd16323-84b8-4240-ddb9-8ec80f7aab5b"
   },
   "outputs": [
    {
     "name": "stdout",
     "output_type": "stream",
     "text": [
      "Lambda result is:  105\n"
     ]
    }
   ],
   "source": [
    "# STEP3 - in order to use lambda function - we need to give it a name\n",
    "g = lambda x: 10*x+5\n",
    "print(\"Lambda result is: \",g(10))\n"
   ]
  },
  {
   "cell_type": "code",
   "execution_count": 22,
   "metadata": {
    "colab": {
     "base_uri": "https://localhost:8080/",
     "height": 35
    },
    "executionInfo": {
     "elapsed": 548,
     "status": "ok",
     "timestamp": 1611326447980,
     "user": {
      "displayName": "JB Abbas",
      "photoUrl": "https://lh3.googleusercontent.com/a-/AOh14GhTEGMJAPYzG0jTyyGZQg1TkQYe1FTxtngw913nCQ=s64",
      "userId": "16604751446320735538"
     },
     "user_tz": 300
    },
    "id": "SRMTkcdUg0oA",
    "outputId": "3b26270f-96ed-425d-b7ad-b921b2ff3757"
   },
   "outputs": [
    {
     "data": {
      "text/plain": [
       "'John Smith'"
      ]
     },
     "execution_count": 22,
     "metadata": {},
     "output_type": "execute_result"
    }
   ],
   "source": [
    "# STEP4 - lambda with multiple inputs\n",
    "# using a strip function that will remove leading or trailing spaces\n",
    "# using a title function to ensure first letter of each string is capitalized\n",
    "# 1, separate first and last name with a space\n",
    "\n",
    "full_name = lambda fname,lname: fname.strip().title() + \" \" + lname.strip().title()\n",
    "full_name(\"    JOHN\",\"smith\")"
   ]
  },
  {
   "cell_type": "code",
   "execution_count": 23,
   "metadata": {
    "colab": {
     "base_uri": "https://localhost:8080/"
    },
    "executionInfo": {
     "elapsed": 330,
     "status": "ok",
     "timestamp": 1611326806597,
     "user": {
      "displayName": "JB Abbas",
      "photoUrl": "https://lh3.googleusercontent.com/a-/AOh14GhTEGMJAPYzG0jTyyGZQg1TkQYe1FTxtngw913nCQ=s64",
      "userId": "16604751446320735538"
     },
     "user_tz": 300
    },
    "id": "hsMReR62jpS9",
    "outputId": "291c78cc-f61a-485f-ea85-05bc7dcc9ba1"
   },
   "outputs": [
    {
     "name": "stdout",
     "output_type": "stream",
     "text": [
      "Name inside the function : John\n",
      "Name outside the function : John\n"
     ]
    }
   ],
   "source": [
    "# Global vs Local Examples\n",
    "\n",
    "# Accessing Global Variables\n",
    "\n",
    "a_name = \"John\"\n",
    "\n",
    "def print_name():\n",
    "  print(\"Name inside the function :\",a_name)\n",
    "\n",
    "print_name()\n",
    "print(\"Name outside the function :\",a_name)"
   ]
  },
  {
   "cell_type": "code",
   "execution_count": 24,
   "metadata": {
    "colab": {
     "base_uri": "https://localhost:8080/"
    },
    "executionInfo": {
     "elapsed": 348,
     "status": "ok",
     "timestamp": 1611326949690,
     "user": {
      "displayName": "JB Abbas",
      "photoUrl": "https://lh3.googleusercontent.com/a-/AOh14GhTEGMJAPYzG0jTyyGZQg1TkQYe1FTxtngw913nCQ=s64",
      "userId": "16604751446320735538"
     },
     "user_tz": 300
    },
    "id": "qyLU5hy5kHW2",
    "outputId": "2ab02a40-554d-463b-e603-429e30664ae6"
   },
   "outputs": [
    {
     "name": "stdout",
     "output_type": "stream",
     "text": [
      "Name inside the function : Bill  aka Local Scope Variable\n",
      "Name outside the function : John  aka Global Scope Variable\n"
     ]
    }
   ],
   "source": [
    "# Local variable defined and overriding locally\n",
    "a_name = \"John\"\n",
    "\n",
    "def print_name():\n",
    "  a_name = \"Bill\"\n",
    "  print(\"Name inside the function :\",a_name,\" aka Local Scope Variable\")\n",
    "\n",
    "print_name()\n",
    "print(\"Name outside the function :\",a_name,\" aka Global Scope Variable\")"
   ]
  },
  {
   "cell_type": "code",
   "execution_count": 25,
   "metadata": {
    "colab": {
     "base_uri": "https://localhost:8080/"
    },
    "executionInfo": {
     "elapsed": 317,
     "status": "ok",
     "timestamp": 1611327241919,
     "user": {
      "displayName": "JB Abbas",
      "photoUrl": "https://lh3.googleusercontent.com/a-/AOh14GhTEGMJAPYzG0jTyyGZQg1TkQYe1FTxtngw913nCQ=s64",
      "userId": "16604751446320735538"
     },
     "user_tz": 300
    },
    "id": "iHoCNHelk2eb",
    "outputId": "9d0c6641-b76b-4960-887f-5a16967184fd"
   },
   "outputs": [
    {
     "name": "stdout",
     "output_type": "stream",
     "text": [
      "Name inside the function : Bill\n"
     ]
    }
   ],
   "source": [
    "# Running without a global variable\n",
    "def print_name():\n",
    "  a_name = \"Bill\"\n",
    "  print(\"Name inside the function :\",a_name)\n",
    "\n",
    "print_name()\n",
    "#print_name(\"Name outside the function :\",a_name)\n",
    "#Reason1 - no name outside, or not globally defined\n",
    "#Reason2 - no parameter defined, trying to pass an argument --- won't work"
   ]
  },
  {
   "cell_type": "code",
   "execution_count": 26,
   "metadata": {
    "colab": {
     "base_uri": "https://localhost:8080/"
    },
    "executionInfo": {
     "elapsed": 430,
     "status": "ok",
     "timestamp": 1611327400100,
     "user": {
      "displayName": "JB Abbas",
      "photoUrl": "https://lh3.googleusercontent.com/a-/AOh14GhTEGMJAPYzG0jTyyGZQg1TkQYe1FTxtngw913nCQ=s64",
      "userId": "16604751446320735538"
     },
     "user_tz": 300
    },
    "id": "PFpVOVfRlqi_",
    "outputId": "959824e2-1f7b-4111-bc26-5b8f99254c46"
   },
   "outputs": [
    {
     "name": "stdout",
     "output_type": "stream",
     "text": [
      "Name outside the function, before defining a global override in Function : John\n",
      "Name inside the function:  Bill\n",
      "Name outside the function, after defining a global override : Bill\n"
     ]
    }
   ],
   "source": [
    "# Overriding a global variable (outside) through a function: specifying a global variable inside \n",
    "\n",
    "a_name = \"John\"\n",
    "print(\"Name outside the function, before defining a global override in Function :\",a_name)\n",
    "\n",
    "def print_name():\n",
    "  global a_name\n",
    "  a_name = \"Bill\"\n",
    "  print(\"Name inside the function: \",a_name)\n",
    "\n",
    "print_name()\n",
    "print(\"Name outside the function, after defining a global override :\",a_name)"
   ]
  },
  {
   "cell_type": "code",
   "execution_count": null,
   "metadata": {
    "id": "hfsnfhTALohv"
   },
   "outputs": [],
   "source": []
  }
 ],
 "metadata": {
  "colab": {
   "authorship_tag": "ABX9TyOmKxr3r+iKtFpZN/30x+C5",
   "collapsed_sections": [],
   "name": "AIDI_1100_01_WEEK3_InClass.ipynb",
   "provenance": []
  },
  "kernelspec": {
   "display_name": "Python 3",
   "language": "python",
   "name": "python3"
  },
  "language_info": {
   "codemirror_mode": {
    "name": "ipython",
    "version": 3
   },
   "file_extension": ".py",
   "mimetype": "text/x-python",
   "name": "python",
   "nbconvert_exporter": "python",
   "pygments_lexer": "ipython3",
   "version": "3.8.6"
  }
 },
 "nbformat": 4,
 "nbformat_minor": 1
}
