{
 "cells": [
  {
   "cell_type": "code",
   "execution_count": 1,
   "metadata": {
    "colab": {
     "base_uri": "https://localhost:8080/"
    },
    "executionInfo": {
     "elapsed": 912,
     "status": "ok",
     "timestamp": 1610631446192,
     "user": {
      "displayName": "JB Abbas",
      "photoUrl": "https://lh3.googleusercontent.com/a-/AOh14GhTEGMJAPYzG0jTyyGZQg1TkQYe1FTxtngw913nCQ=s64",
      "userId": "16604751446320735538"
     },
     "user_tz": 300
    },
    "id": "SyF9ylbuDQiW",
    "outputId": "586173d4-39e7-4394-ac21-423f5c7652e7"
   },
   "outputs": [
    {
     "data": {
      "text/plain": [
       "9"
      ]
     },
     "execution_count": 1,
     "metadata": {},
     "output_type": "execute_result"
    }
   ],
   "source": [
    "# Example1\n",
    "a=4;b=5;\n",
    "c=a+b\n",
    "c"
   ]
  },
  {
   "cell_type": "code",
   "execution_count": 2,
   "metadata": {
    "colab": {
     "base_uri": "https://localhost:8080/"
    },
    "executionInfo": {
     "elapsed": 907,
     "status": "ok",
     "timestamp": 1610631446196,
     "user": {
      "displayName": "JB Abbas",
      "photoUrl": "https://lh3.googleusercontent.com/a-/AOh14GhTEGMJAPYzG0jTyyGZQg1TkQYe1FTxtngw913nCQ=s64",
      "userId": "16604751446320735538"
     },
     "user_tz": 300
    },
    "id": "OYH0T29TGq9Z",
    "outputId": "9f6fc14c-c3d8-4117-c6ce-f9243e6cff1e"
   },
   "outputs": [
    {
     "name": "stdout",
     "output_type": "stream",
     "text": [
      "hello world!\n"
     ]
    }
   ],
   "source": [
    "# Example2\n",
    "print(\"hello world!\")"
   ]
  },
  {
   "cell_type": "code",
   "execution_count": 3,
   "metadata": {
    "id": "82l5untYHAab"
   },
   "outputs": [
    {
     "name": "stdout",
     "output_type": "stream",
     "text": [
      "Welcome to Google Colab\n"
     ]
    }
   ],
   "source": [
    "# Example3\n",
    "print(\"Welcome to Google Colab\")"
   ]
  },
  {
   "cell_type": "code",
   "execution_count": 4,
   "metadata": {
    "id": "5T-HOidsIqvg"
   },
   "outputs": [
    {
     "name": "stdout",
     "output_type": "stream",
     "text": [
      "Hello world!\n",
      "Hello Mars!\n"
     ]
    }
   ],
   "source": [
    "# Indentation Example\n",
    "print(\"Hello world!\")\n",
    "print(\"Hello Mars!\")\n",
    "\n"
   ]
  },
  {
   "cell_type": "code",
   "execution_count": 5,
   "metadata": {
    "id": "tIYFrzbyI3vj"
   },
   "outputs": [
    {
     "ename": "SyntaxError",
     "evalue": "Missing parentheses in call to 'print'. Did you mean print(\"hello\")? (<ipython-input-5-c8c6db8fa3c5>, line 2)",
     "output_type": "error",
     "traceback": [
      "\u001b[0;36m  File \u001b[0;32m\"<ipython-input-5-c8c6db8fa3c5>\"\u001b[0;36m, line \u001b[0;32m2\u001b[0m\n\u001b[0;31m    print \"hello\"\u001b[0m\n\u001b[0m          ^\u001b[0m\n\u001b[0;31mSyntaxError\u001b[0m\u001b[0;31m:\u001b[0m Missing parentheses in call to 'print'. Did you mean print(\"hello\")?\n"
     ]
    }
   ],
   "source": [
    "# Syntax Error Example\n",
    "print \"hello\""
   ]
  },
  {
   "cell_type": "code",
   "execution_count": null,
   "metadata": {
    "id": "qhPI_Vm-Ljqe"
   },
   "outputs": [],
   "source": [
    "# Runtime Error Example\n",
    "print(greeting)"
   ]
  },
  {
   "cell_type": "code",
   "execution_count": null,
   "metadata": {
    "colab": {
     "base_uri": "https://localhost:8080/"
    },
    "executionInfo": {
     "elapsed": 599,
     "status": "ok",
     "timestamp": 1610633077658,
     "user": {
      "displayName": "JB Abbas",
      "photoUrl": "https://lh3.googleusercontent.com/a-/AOh14GhTEGMJAPYzG0jTyyGZQg1TkQYe1FTxtngw913nCQ=s64",
      "userId": "16604751446320735538"
     },
     "user_tz": 300
    },
    "id": "DMzMAFu1MlDC",
    "outputId": "d92f6e73-7521-41a6-93e2-ece34de30d60"
   },
   "outputs": [],
   "source": [
    "# Logic Error Example\n",
    "x = 10\n",
    "y = 20\n",
    "average = (x + y) / 2\n",
    "print(average)"
   ]
  },
  {
   "cell_type": "markdown",
   "metadata": {
    "id": "8AUWyNthNRbW"
   },
   "source": [
    "- Parenthesis\n",
    "- Exponents\n",
    "- Multiplication / Division (in conflict, go left to right)\n",
    "- Addition / Subtraction (in conflict, go left to right)"
   ]
  },
  {
   "cell_type": "code",
   "execution_count": null,
   "metadata": {
    "id": "lRAbxqrzPFr7"
   },
   "outputs": [],
   "source": [
    "# Boolean Examples\n",
    "x = True\n",
    "y = False\n",
    "\n",
    "# Ouptut: x and y is False \n",
    "print(\"Result of x 'AND' y: \",x and y)"
   ]
  },
  {
   "cell_type": "code",
   "execution_count": null,
   "metadata": {
    "colab": {
     "base_uri": "https://localhost:8080/"
    },
    "executionInfo": {
     "elapsed": 364,
     "status": "ok",
     "timestamp": 1610633676738,
     "user": {
      "displayName": "JB Abbas",
      "photoUrl": "https://lh3.googleusercontent.com/a-/AOh14GhTEGMJAPYzG0jTyyGZQg1TkQYe1FTxtngw913nCQ=s64",
      "userId": "16604751446320735538"
     },
     "user_tz": 300
    },
    "id": "4eiAy-_7Ptnk",
    "outputId": "713aeeee-2c79-4fe4-cea1-bb599935fbcf"
   },
   "outputs": [],
   "source": [
    "# Output x or y is True\n",
    "print(\"Result of x OR y\",x or y)"
   ]
  },
  {
   "cell_type": "code",
   "execution_count": 6,
   "metadata": {
    "colab": {
     "base_uri": "https://localhost:8080/"
    },
    "executionInfo": {
     "elapsed": 365,
     "status": "ok",
     "timestamp": 1610634591532,
     "user": {
      "displayName": "JB Abbas",
      "photoUrl": "https://lh3.googleusercontent.com/a-/AOh14GhTEGMJAPYzG0jTyyGZQg1TkQYe1FTxtngw913nCQ=s64",
      "userId": "16604751446320735538"
     },
     "user_tz": 300
    },
    "id": "jucU50O4RG2f",
    "outputId": "c6a50729-6250-488e-fc47-516b07b0dd8e"
   },
   "outputs": [
    {
     "name": "stdout",
     "output_type": "stream",
     "text": [
      "<class 'int'> 5\n",
      "<class 'int'>\n"
     ]
    }
   ],
   "source": [
    "# integer example\n",
    "a = 5\n",
    "print(type(a),a)\n",
    "\n",
    "print(type(-1))"
   ]
  },
  {
   "cell_type": "code",
   "execution_count": 7,
   "metadata": {
    "id": "NSCQDtVuUn7B"
   },
   "outputs": [
    {
     "name": "stdout",
     "output_type": "stream",
     "text": [
      "<class 'list'> ['Python', 'Java', 'C++', 'R']\n",
      "Python\n",
      "R\n",
      "['Python', 'Java']\n",
      "['Java']\n",
      "After appending a new word: ['Python', 'Java', 'C++', 'R', 'VB']\n",
      "After extending the list: ['Python', 'Java', 'C++', 'R', 'VB', 'H', 'T', 'M', 'L']\n"
     ]
    }
   ],
   "source": [
    "# Example of a list with same data types \n",
    "languages = [\"Python\",\"Java\",\"C++\",\"R\"]\n",
    "# indexing      0    ,   1  ,  2  , 3\n",
    "print(type(languages),languages)\n",
    "print(languages[0])                       #retrieve data from list\n",
    "print(languages[3])\n",
    "print(languages[0:2])\n",
    "print(languages[1:2])\n",
    "languages.append(\"VB\")\n",
    "print(\"After appending a new word:\",languages)\n",
    "languages.extend(\"HTML\")\n",
    "print(\"After extending the list:\",languages)"
   ]
  },
  {
   "cell_type": "code",
   "execution_count": 8,
   "metadata": {
    "id": "IhYL7JmvX5Zg"
   },
   "outputs": [
    {
     "name": "stdout",
     "output_type": "stream",
     "text": [
      "<class 'tuple'> ('Hindi', 'English', 'Spanish', 'Arabic')\n",
      "Hindi\n"
     ]
    },
    {
     "ename": "AttributeError",
     "evalue": "'tuple' object has no attribute 'append'",
     "output_type": "error",
     "traceback": [
      "\u001b[0;31m---------------------------------------------------------------------------\u001b[0m",
      "\u001b[0;31mAttributeError\u001b[0m                            Traceback (most recent call last)",
      "\u001b[0;32m<ipython-input-8-6da9ca4c0b9f>\u001b[0m in \u001b[0;36m<module>\u001b[0;34m\u001b[0m\n\u001b[1;32m      3\u001b[0m \u001b[0mprint\u001b[0m\u001b[0;34m(\u001b[0m\u001b[0mtype\u001b[0m\u001b[0;34m(\u001b[0m\u001b[0mlang2\u001b[0m\u001b[0;34m)\u001b[0m\u001b[0;34m,\u001b[0m\u001b[0mlang2\u001b[0m\u001b[0;34m)\u001b[0m\u001b[0;34m\u001b[0m\u001b[0;34m\u001b[0m\u001b[0m\n\u001b[1;32m      4\u001b[0m \u001b[0mprint\u001b[0m\u001b[0;34m(\u001b[0m\u001b[0mlang2\u001b[0m\u001b[0;34m[\u001b[0m\u001b[0;36m0\u001b[0m\u001b[0;34m]\u001b[0m\u001b[0;34m)\u001b[0m\u001b[0;34m\u001b[0m\u001b[0;34m\u001b[0m\u001b[0m\n\u001b[0;32m----> 5\u001b[0;31m \u001b[0mlang2\u001b[0m\u001b[0;34m.\u001b[0m\u001b[0mappend\u001b[0m\u001b[0;34m(\u001b[0m\u001b[0;34m\"French\"\u001b[0m\u001b[0;34m)\u001b[0m\u001b[0;34m\u001b[0m\u001b[0;34m\u001b[0m\u001b[0m\n\u001b[0m",
      "\u001b[0;31mAttributeError\u001b[0m: 'tuple' object has no attribute 'append'"
     ]
    }
   ],
   "source": [
    "# Example of a tuple with same data types\n",
    "lang2 = (\"Hindi\",\"English\",\"Spanish\",\"Arabic\")\n",
    "print(type(lang2),lang2)\n",
    "print(lang2[0])\n",
    "lang2.append(\"French\")"
   ]
  },
  {
   "cell_type": "code",
   "execution_count": 9,
   "metadata": {
    "colab": {
     "base_uri": "https://localhost:8080/"
    },
    "executionInfo": {
     "elapsed": 388,
     "status": "ok",
     "timestamp": 1610717304078,
     "user": {
      "displayName": "JB Abbas",
      "photoUrl": "https://lh3.googleusercontent.com/a-/AOh14GhTEGMJAPYzG0jTyyGZQg1TkQYe1FTxtngw913nCQ=s64",
      "userId": "16604751446320735538"
     },
     "user_tz": 300
    },
    "id": "oD4s7scwZWW4",
    "outputId": "1396dfca-d768-4b84-857a-86717208a8ba"
   },
   "outputs": [
    {
     "name": "stdout",
     "output_type": "stream",
     "text": [
      "<class 'set'> {4, 5, 6, 8, 10}\n",
      "<class 'set'> {'John', 'Jake', 'Abe', 'Jillian'}\n"
     ]
    },
    {
     "data": {
      "text/plain": [
       "['Abe', 'Jake', 'Jillian', 'John']"
      ]
     },
     "execution_count": 9,
     "metadata": {},
     "output_type": "execute_result"
    }
   ],
   "source": [
    "# Example of a set of integers\n",
    "a = {5,4,6,8,8,8,8,6,6,6,10}\n",
    "print(type(a),a)\n",
    "b = {\"John\",\"Jake\",\"Jillian\",\"Abe\"}\n",
    "print(type(b),b)                    # by default - set won't be sorted\n",
    "sorted(b)                           # you can sort a set by using \"sorted\" function\n",
    "\n",
    "# why are integers presented in a sorted fashion vs string, Thanks Vinith for pointing this out; \n",
    "# Order is determined by the 'hash' of the element and when the element was inserted into memory. "
   ]
  },
  {
   "cell_type": "markdown",
   "metadata": {
    "id": "mQF6uum0cVsq"
   },
   "source": [
    ".. Session 2 = More examples on \"Nested Lists\" + Sets + FrozenSets and onwards.."
   ]
  },
  {
   "cell_type": "code",
   "execution_count": 10,
   "metadata": {
    "colab": {
     "base_uri": "https://localhost:8080/"
    },
    "executionInfo": {
     "elapsed": 687,
     "status": "ok",
     "timestamp": 1610717440718,
     "user": {
      "displayName": "JB Abbas",
      "photoUrl": "https://lh3.googleusercontent.com/a-/AOh14GhTEGMJAPYzG0jTyyGZQg1TkQYe1FTxtngw913nCQ=s64",
      "userId": "16604751446320735538"
     },
     "user_tz": 300
    },
    "id": "hr1SxratU-Kb",
    "outputId": "f0a6ab1f-b047-4ec1-b3b6-ea1297af8f43"
   },
   "outputs": [
    {
     "name": "stdout",
     "output_type": "stream",
     "text": [
      "h\n",
      "fff\n"
     ]
    }
   ],
   "source": [
    "# Example of a Nested List and how to retrieve specific data\n",
    "list12 = [\"a\", \"b\", [\"cc\",\"dd\",[\"eee\",\"fff\",]],\"g\",\"h\"]\n",
    "#         0     1     2                        3   4  --- initial index\n",
    "#                     0     1    2                    --- sub index\n",
    "#                                0      1             --- sub-sub index\n",
    "print(list12[4])\n",
    "print(list12[2][2][1])"
   ]
  },
  {
   "cell_type": "code",
   "execution_count": 11,
   "metadata": {
    "id": "AnlzhznJM-MU"
   },
   "outputs": [
    {
     "name": "stdout",
     "output_type": "stream",
     "text": [
      "<class 'tuple'> ('Paris', 'London', 'Birmingham', 'Rome')\n",
      "<class 'set'> {'London', 'Birmingham', 'Rome', 'Paris'}\n",
      "After adding a city to cities1:  {'London', 'Birmingham', 'Rome', 'Ibiza', 'Paris'}\n",
      "<class 'set'> {'London', 'Toronto', 'Birmingham', 'New York', 'Rome', 'Ibiza', 'Chicago', 'Paris'}\n",
      "After discarding a city to cities1 {'London', 'Birmingham', 'New York', 'Rome', 'Ibiza', 'Chicago', 'Paris'}\n",
      "After removing a city from cities1 {'London', 'Birmingham', 'Rome', 'Ibiza', 'Chicago', 'Paris'}\n",
      "True\n",
      "False\n"
     ]
    }
   ],
   "source": [
    "# Detailed examples of a set using different methods\n",
    "# Tuple of cities into a set, conversion\n",
    "cities = (\"Paris\", \"London\", \"Birmingham\", \"Rome\")\n",
    "print(type(cities),cities)\n",
    "\n",
    "# Convert TUPLE into a set\n",
    "cities1 = set (cities)\n",
    "print(type(cities1),cities1)\n",
    "\n",
    "# Sets - they are mutable, how to add values\n",
    "cities1.add(\"Ibiza\")\n",
    "print(\"After adding a city to cities1: \",cities1)\n",
    "\n",
    "# Sets - updating existing set with a separate list\n",
    "other_cities = [\"Toronto\", \"New York\", \"Chicago\"]\n",
    "cities1.update(other_cities)\n",
    "print(type(cities1),cities1)\n",
    "\n",
    "# Sets - updating existing set by discarding a specific element\n",
    "cities1.discard(\"Toronto\")\n",
    "print(\"After discarding a city to cities1\",cities1)\n",
    "\n",
    "# Sets - updating existing set by removing a specific element\n",
    "cities1.remove(\"New York\")\n",
    "print(\"After removing a city from cities1\",cities1)\n",
    "\n",
    "# Sets - checking to see if a specific value exists by using \"IN\"\n",
    "print(\"London\" in cities1)\n",
    "print(\"Tokyo\" in cities1)\n",
    "\n",
    "# Concepts above are applicable to lists as well (anything mutable)\n"
   ]
  },
  {
   "cell_type": "code",
   "execution_count": 12,
   "metadata": {
    "colab": {
     "base_uri": "https://localhost:8080/"
    },
    "executionInfo": {
     "elapsed": 609,
     "status": "ok",
     "timestamp": 1610718778162,
     "user": {
      "displayName": "JB Abbas",
      "photoUrl": "https://lh3.googleusercontent.com/a-/AOh14GhTEGMJAPYzG0jTyyGZQg1TkQYe1FTxtngw913nCQ=s64",
      "userId": "16604751446320735538"
     },
     "user_tz": 300
    },
    "id": "txPwASaRT1CX",
    "outputId": "6ffa701f-f5c8-4cb5-a806-df3e6905ef24"
   },
   "outputs": [
    {
     "name": "stdout",
     "output_type": "stream",
     "text": [
      "<class 'frozenset'> frozenset({'Frankfurt', 'Basel', 'London'})\n"
     ]
    }
   ],
   "source": [
    "# FrozenSet Example1\n",
    "cities2 = frozenset([\"Frankfurt\", \"Basel\",\"London\"])\n",
    "print(type(cities2),cities2)\n",
    "\n",
    "# FrozenSet Example2 - trying to add values, we can't because its immutable\n",
    "#cities2.add(\"Strasborug\")"
   ]
  },
  {
   "cell_type": "code",
   "execution_count": 13,
   "metadata": {
    "colab": {
     "base_uri": "https://localhost:8080/"
    },
    "executionInfo": {
     "elapsed": 335,
     "status": "ok",
     "timestamp": 1610719243139,
     "user": {
      "displayName": "JB Abbas",
      "photoUrl": "https://lh3.googleusercontent.com/a-/AOh14GhTEGMJAPYzG0jTyyGZQg1TkQYe1FTxtngw913nCQ=s64",
      "userId": "16604751446320735538"
     },
     "user_tz": 300
    },
    "id": "opBeR9LdU9OJ",
    "outputId": "b660eabe-558a-4673-b768-106e0b13a3f8"
   },
   "outputs": [
    {
     "name": "stdout",
     "output_type": "stream",
     "text": [
      "<class 'dict'> {1: 'value1', 'key2': 2}\n"
     ]
    }
   ],
   "source": [
    "# Dictionary Example1\n",
    "d = {1:\"value1\",\"key2\":2}\n",
    "print(type(d),d)"
   ]
  },
  {
   "cell_type": "code",
   "execution_count": 14,
   "metadata": {
    "colab": {
     "base_uri": "https://localhost:8080/"
    },
    "executionInfo": {
     "elapsed": 431,
     "status": "ok",
     "timestamp": 1610720174033,
     "user": {
      "displayName": "JB Abbas",
      "photoUrl": "https://lh3.googleusercontent.com/a-/AOh14GhTEGMJAPYzG0jTyyGZQg1TkQYe1FTxtngw913nCQ=s64",
      "userId": "16604751446320735538"
     },
     "user_tz": 300
    },
    "id": "jlLYZgZ-WYm3",
    "outputId": "3884c8dd-ead9-4606-d1ff-75841b17baf5"
   },
   "outputs": [
    {
     "name": "stdout",
     "output_type": "stream",
     "text": [
      "Empty dictionary of mine has this content: \n",
      "{}\n"
     ]
    }
   ],
   "source": [
    "# Dictionary Example 2 - Start off with empty Dictionary and beyond\n",
    "custom_dict = {}\n",
    "print(\"Empty dictionary of mine has this content: \")\n",
    "print(custom_dict)"
   ]
  },
  {
   "cell_type": "code",
   "execution_count": 15,
   "metadata": {
    "colab": {
     "base_uri": "https://localhost:8080/"
    },
    "executionInfo": {
     "elapsed": 819,
     "status": "ok",
     "timestamp": 1610720176150,
     "user": {
      "displayName": "JB Abbas",
      "photoUrl": "https://lh3.googleusercontent.com/a-/AOh14GhTEGMJAPYzG0jTyyGZQg1TkQYe1FTxtngw913nCQ=s64",
      "userId": "16604751446320735538"
     },
     "user_tz": 300
    },
    "id": "pIFfWfcLW0x0",
    "outputId": "51e3b11f-9d3c-41bd-c32e-37f2dc5f18be"
   },
   "outputs": [
    {
     "name": "stdout",
     "output_type": "stream",
     "text": [
      "Dictionary after adding 3 values:\n",
      " 123\n",
      "{0: 'Nike', 1: 'Adidas', 2: 500}\n"
     ]
    }
   ],
   "source": [
    "# Dictionary Example 3 - Continuing from above, create keys and values (different method)\n",
    "custom_dict[0] = \"Nike\"\n",
    "custom_dict[1] = \"Adidas\"\n",
    "custom_dict[2] = 500\n",
    "print(\"Dictionary after adding 3 values:\\n 123\")                      #Tip: \\n allows you to send text to the next line\n",
    "print(custom_dict)\n"
   ]
  },
  {
   "cell_type": "code",
   "execution_count": 16,
   "metadata": {
    "colab": {
     "base_uri": "https://localhost:8080/"
    },
    "executionInfo": {
     "elapsed": 640,
     "status": "ok",
     "timestamp": 1610720177872,
     "user": {
      "displayName": "JB Abbas",
      "photoUrl": "https://lh3.googleusercontent.com/a-/AOh14GhTEGMJAPYzG0jTyyGZQg1TkQYe1FTxtngw913nCQ=s64",
      "userId": "16604751446320735538"
     },
     "user_tz": 300
    },
    "id": "_g9L2pv8YTSm",
    "outputId": "cfbbd25b-8931-4ebc-a2ba-2cbc7c888cca"
   },
   "outputs": [
    {
     "name": "stdout",
     "output_type": "stream",
     "text": [
      "Updated values:  {0: 'Nike', 1: 'Adidas', 2: 'Timberland'}\n"
     ]
    }
   ],
   "source": [
    "# Dictionary Example 4 - Updating dictionary values\n",
    "custom_dict[2] = \"Timberland\"\n",
    "print(\"Updated values: \",custom_dict)"
   ]
  },
  {
   "cell_type": "code",
   "execution_count": 17,
   "metadata": {
    "colab": {
     "base_uri": "https://localhost:8080/"
    },
    "executionInfo": {
     "elapsed": 377,
     "status": "ok",
     "timestamp": 1610720179386,
     "user": {
      "displayName": "JB Abbas",
      "photoUrl": "https://lh3.googleusercontent.com/a-/AOh14GhTEGMJAPYzG0jTyyGZQg1TkQYe1FTxtngw913nCQ=s64",
      "userId": "16604751446320735538"
     },
     "user_tz": 300
    },
    "id": "RMXMqHdjY0Ht",
    "outputId": "d921efc5-e28f-41d1-805d-c162170cb006"
   },
   "outputs": [
    {
     "name": "stdout",
     "output_type": "stream",
     "text": [
      "None\n"
     ]
    }
   ],
   "source": [
    "# Dictionary Example 5 - Searching for a random value in dictionary\n",
    "print(custom_dict.get(\"Adidas\"))"
   ]
  },
  {
   "cell_type": "code",
   "execution_count": 18,
   "metadata": {
    "id": "GmZaS9CSZOxB"
   },
   "outputs": [
    {
     "ename": "KeyError",
     "evalue": "'Timberland'",
     "output_type": "error",
     "traceback": [
      "\u001b[0;31m---------------------------------------------------------------------------\u001b[0m",
      "\u001b[0;31mKeyError\u001b[0m                                  Traceback (most recent call last)",
      "\u001b[0;32m<ipython-input-18-146ea829a6d9>\u001b[0m in \u001b[0;36m<module>\u001b[0;34m\u001b[0m\n\u001b[1;32m      1\u001b[0m \u001b[0;31m# Dictionary Example 6 - Removing a value from a key // show better example\u001b[0m\u001b[0;34m\u001b[0m\u001b[0;34m\u001b[0m\u001b[0;34m\u001b[0m\u001b[0m\n\u001b[0;32m----> 2\u001b[0;31m \u001b[0mcustom_dict\u001b[0m\u001b[0;34m.\u001b[0m\u001b[0mpop\u001b[0m\u001b[0;34m(\u001b[0m\u001b[0;34m\"Timberland\"\u001b[0m\u001b[0;34m)\u001b[0m\u001b[0;34m\u001b[0m\u001b[0;34m\u001b[0m\u001b[0m\n\u001b[0m\u001b[1;32m      3\u001b[0m \u001b[0mprint\u001b[0m\u001b[0;34m(\u001b[0m\u001b[0;34m\"Updated values:\"\u001b[0m\u001b[0;34m,\u001b[0m\u001b[0mcustom_dict\u001b[0m\u001b[0;34m)\u001b[0m\u001b[0;34m\u001b[0m\u001b[0;34m\u001b[0m\u001b[0m\n",
      "\u001b[0;31mKeyError\u001b[0m: 'Timberland'"
     ]
    }
   ],
   "source": [
    "# Dictionary Example 6 - Removing a value from a key // show better example\n",
    "custom_dict.pop(\"Timberland\")\n",
    "print(\"Updated values:\",custom_dict)"
   ]
  },
  {
   "cell_type": "code",
   "execution_count": 19,
   "metadata": {
    "colab": {
     "base_uri": "https://localhost:8080/"
    },
    "executionInfo": {
     "elapsed": 1529,
     "status": "ok",
     "timestamp": 1610720760554,
     "user": {
      "displayName": "JB Abbas",
      "photoUrl": "https://lh3.googleusercontent.com/a-/AOh14GhTEGMJAPYzG0jTyyGZQg1TkQYe1FTxtngw913nCQ=s64",
      "userId": "16604751446320735538"
     },
     "user_tz": 300
    },
    "id": "lFf4Y_K-a7hT",
    "outputId": "5ef8c875-024d-4429-a2a2-40ea6dc0db5d"
   },
   "outputs": [
    {
     "name": "stdout",
     "output_type": "stream",
     "text": [
      "Original List: [1, 5, 2, 3, 4, 6, 7, 8]\n",
      "After appending value of 9: [1, 5, 2, 3, 4, 6, 7, 8, 9]\n",
      "After sorting teh list:  [1, 2, 3, 4, 5, 6, 7, 8, 9]\n",
      "Printing the numbers 2 to 8 [2, 3, 4, 5, 6, 7, 8]\n"
     ]
    }
   ],
   "source": [
    "# Example1\n",
    "example_list = [1,5,2,3,4,6,7,8]\n",
    "print(\"Original List:\",example_list)\n",
    "example_list.append(9)\n",
    "print(\"After appending value of 9:\",example_list)\n",
    "example_list.sort()\n",
    "print(\"After sorting teh list: \",example_list)\n",
    "print(\"Printing the numbers 2 to 8\",example_list[1:8])"
   ]
  },
  {
   "cell_type": "code",
   "execution_count": 20,
   "metadata": {
    "colab": {
     "base_uri": "https://localhost:8080/"
    },
    "executionInfo": {
     "elapsed": 374,
     "status": "ok",
     "timestamp": 1610721196700,
     "user": {
      "displayName": "JB Abbas",
      "photoUrl": "https://lh3.googleusercontent.com/a-/AOh14GhTEGMJAPYzG0jTyyGZQg1TkQYe1FTxtngw913nCQ=s64",
      "userId": "16604751446320735538"
     },
     "user_tz": 300
    },
    "id": "qBHxqJ91a7YT",
    "outputId": "8038ab89-f17e-49af-fa09-eb7f66aee3c8"
   },
   "outputs": [
    {
     "name": "stdout",
     "output_type": "stream",
     "text": [
      "hello\n",
      "HELLO\n"
     ]
    }
   ],
   "source": [
    "# Example2 - Amanpreet\n",
    "lc =\"hello\"\n",
    "print(lc)\n",
    "uc = lc.upper()\n",
    "print(uc)"
   ]
  },
  {
   "cell_type": "code",
   "execution_count": 21,
   "metadata": {
    "colab": {
     "base_uri": "https://localhost:8080/"
    },
    "executionInfo": {
     "elapsed": 868,
     "status": "ok",
     "timestamp": 1610721226707,
     "user": {
      "displayName": "JB Abbas",
      "photoUrl": "https://lh3.googleusercontent.com/a-/AOh14GhTEGMJAPYzG0jTyyGZQg1TkQYe1FTxtngw913nCQ=s64",
      "userId": "16604751446320735538"
     },
     "user_tz": 300
    },
    "id": "ds6I8d9Qdxj1",
    "outputId": "8b08aeac-2486-4888-f5cc-471b27ff638f"
   },
   "outputs": [
    {
     "name": "stdout",
     "output_type": "stream",
     "text": [
      "hello HELLO\n"
     ]
    }
   ],
   "source": [
    "# Example2 - Xin\n",
    "str=\"hello\"\n",
    "str_upper=str.upper()\n",
    "print(str,str_upper)"
   ]
  },
  {
   "cell_type": "code",
   "execution_count": 22,
   "metadata": {
    "colab": {
     "base_uri": "https://localhost:8080/"
    },
    "executionInfo": {
     "elapsed": 336,
     "status": "ok",
     "timestamp": 1610721248524,
     "user": {
      "displayName": "JB Abbas",
      "photoUrl": "https://lh3.googleusercontent.com/a-/AOh14GhTEGMJAPYzG0jTyyGZQg1TkQYe1FTxtngw913nCQ=s64",
      "userId": "16604751446320735538"
     },
     "user_tz": 300
    },
    "id": "383524tOd4iv",
    "outputId": "1c9a3596-6989-45fa-e59f-394355beb91b"
   },
   "outputs": [
    {
     "name": "stdout",
     "output_type": "stream",
     "text": [
      "this is a demo\n",
      "THIS IS A DEMO\n"
     ]
    }
   ],
   "source": [
    "# Example2 - Aman\n",
    "str_1 = 'this is a demo'\n",
    "print(str_1.lower())\n",
    "print(str_1.upper())"
   ]
  },
  {
   "cell_type": "code",
   "execution_count": 23,
   "metadata": {
    "colab": {
     "base_uri": "https://localhost:8080/"
    },
    "executionInfo": {
     "elapsed": 959,
     "status": "ok",
     "timestamp": 1610721271607,
     "user": {
      "displayName": "JB Abbas",
      "photoUrl": "https://lh3.googleusercontent.com/a-/AOh14GhTEGMJAPYzG0jTyyGZQg1TkQYe1FTxtngw913nCQ=s64",
      "userId": "16604751446320735538"
     },
     "user_tz": 300
    },
    "id": "Zt8tFaBDd9Eq",
    "outputId": "054e0001-a865-44af-8b74-1d830a284294"
   },
   "outputs": [
    {
     "name": "stdout",
     "output_type": "stream",
     "text": [
      "i am alpha\n",
      "I AM ALPHA\n"
     ]
    }
   ],
   "source": [
    "# Example3 - Mohammed N\n",
    "example_string=\"I am alpha\"\n",
    "print(example_string.lower())\n",
    "print(example_string.upper())"
   ]
  },
  {
   "cell_type": "code",
   "execution_count": 24,
   "metadata": {
    "colab": {
     "base_uri": "https://localhost:8080/"
    },
    "executionInfo": {
     "elapsed": 347,
     "status": "ok",
     "timestamp": 1610721293810,
     "user": {
      "displayName": "JB Abbas",
      "photoUrl": "https://lh3.googleusercontent.com/a-/AOh14GhTEGMJAPYzG0jTyyGZQg1TkQYe1FTxtngw913nCQ=s64",
      "userId": "16604751446320735538"
     },
     "user_tz": 300
    },
    "id": "Fz2MlLhReCzW",
    "outputId": "af033af4-15be-4c0a-e895-66bc58737925"
   },
   "outputs": [
    {
     "name": "stdout",
     "output_type": "stream",
     "text": [
      "arnav\n",
      "ARNAV\n"
     ]
    }
   ],
   "source": [
    "# Example - Arnav\n",
    "string_Val=\"arnav\"\n",
    "print(string_Val)\n",
    "upper_case=string_Val.upper()\n",
    "print(upper_case)"
   ]
  },
  {
   "cell_type": "code",
   "execution_count": 25,
   "metadata": {
    "colab": {
     "base_uri": "https://localhost:8080/"
    },
    "executionInfo": {
     "elapsed": 381,
     "status": "ok",
     "timestamp": 1610721311185,
     "user": {
      "displayName": "JB Abbas",
      "photoUrl": "https://lh3.googleusercontent.com/a-/AOh14GhTEGMJAPYzG0jTyyGZQg1TkQYe1FTxtngw913nCQ=s64",
      "userId": "16604751446320735538"
     },
     "user_tz": 300
    },
    "id": "rSMzxKiueH6p",
    "outputId": "1577b70a-79d4-4ab9-bcfa-2f29498d3a99"
   },
   "outputs": [
    {
     "name": "stdout",
     "output_type": "stream",
     "text": [
      "python-rocks PYTHON-ROCKS\n"
     ]
    }
   ],
   "source": [
    "# Example - Bayron\n",
    "lower_case = \"python-rocks\"\n",
    "upper_case = lower_case.upper()\n",
    "print(lower_case, upper_case)"
   ]
  },
  {
   "cell_type": "code",
   "execution_count": 26,
   "metadata": {
    "colab": {
     "base_uri": "https://localhost:8080/"
    },
    "executionInfo": {
     "elapsed": 355,
     "status": "ok",
     "timestamp": 1610721329872,
     "user": {
      "displayName": "JB Abbas",
      "photoUrl": "https://lh3.googleusercontent.com/a-/AOh14GhTEGMJAPYzG0jTyyGZQg1TkQYe1FTxtngw913nCQ=s64",
      "userId": "16604751446320735538"
     },
     "user_tz": 300
    },
    "id": "5dZvBaM9eM0A",
    "outputId": "8c0d343e-06e2-4621-c5d0-266eec8ef98b"
   },
   "outputs": [
    {
     "name": "stdout",
     "output_type": "stream",
     "text": [
      "test TEST\n"
     ]
    }
   ],
   "source": [
    "# Example - Renato\n",
    "stringEX=\"test\"\n",
    "str_upper=stringEX.upper()\n",
    "print(stringEX,str_upper)"
   ]
  },
  {
   "cell_type": "code",
   "execution_count": 27,
   "metadata": {
    "colab": {
     "base_uri": "https://localhost:8080/"
    },
    "executionInfo": {
     "elapsed": 316,
     "status": "ok",
     "timestamp": 1610721346231,
     "user": {
      "displayName": "JB Abbas",
      "photoUrl": "https://lh3.googleusercontent.com/a-/AOh14GhTEGMJAPYzG0jTyyGZQg1TkQYe1FTxtngw913nCQ=s64",
      "userId": "16604751446320735538"
     },
     "user_tz": 300
    },
    "id": "kDWk6vEueRpR",
    "outputId": "e88974e9-f417-4679-9a2c-b21cad8cf985"
   },
   "outputs": [
    {
     "name": "stdout",
     "output_type": "stream",
     "text": [
      "robin manchanda ROBIN MANCHANDA\n"
     ]
    }
   ],
   "source": [
    "# Example - Robin\n",
    "Example_String= 'robin manchanda'\n",
    "print(Example_String, Example_String.upper())"
   ]
  },
  {
   "cell_type": "code",
   "execution_count": 28,
   "metadata": {
    "colab": {
     "base_uri": "https://localhost:8080/"
    },
    "executionInfo": {
     "elapsed": 598,
     "status": "ok",
     "timestamp": 1610721397541,
     "user": {
      "displayName": "JB Abbas",
      "photoUrl": "https://lh3.googleusercontent.com/a-/AOh14GhTEGMJAPYzG0jTyyGZQg1TkQYe1FTxtngw913nCQ=s64",
      "userId": "16604751446320735538"
     },
     "user_tz": 300
    },
    "id": "FTUS46pOeWyH",
    "outputId": "16f847f9-8783-4d72-dd70-6d6039ef3f02"
   },
   "outputs": [
    {
     "name": "stdout",
     "output_type": "stream",
     "text": [
      "JAHANZEB ABBAS\n",
      "jahanzeb abbas\n"
     ]
    }
   ],
   "source": [
    "# Example - Vinith\n",
    "str = \"jahanzeb AbbAs\"\n",
    "print(str.upper())\n",
    "print(str.lower())"
   ]
  },
  {
   "cell_type": "code",
   "execution_count": 29,
   "metadata": {
    "colab": {
     "base_uri": "https://localhost:8080/"
    },
    "executionInfo": {
     "elapsed": 398,
     "status": "ok",
     "timestamp": 1610721417140,
     "user": {
      "displayName": "JB Abbas",
      "photoUrl": "https://lh3.googleusercontent.com/a-/AOh14GhTEGMJAPYzG0jTyyGZQg1TkQYe1FTxtngw913nCQ=s64",
      "userId": "16604751446320735538"
     },
     "user_tz": 300
    },
    "id": "4aa5zslAeiT6",
    "outputId": "d1c345a1-f08f-412e-e673-57bded982458"
   },
   "outputs": [
    {
     "name": "stdout",
     "output_type": "stream",
     "text": [
      "uppercaselowercasetest\n",
      "UPPERCASELOWERCASETEST\n"
     ]
    }
   ],
   "source": [
    "# Example - Arunima\n",
    "string =\"UppercaseLowercaseTest\"\n",
    "print(string.lower())\n",
    "print(string.upper())"
   ]
  },
  {
   "cell_type": "code",
   "execution_count": 30,
   "metadata": {
    "colab": {
     "base_uri": "https://localhost:8080/"
    },
    "executionInfo": {
     "elapsed": 444,
     "status": "ok",
     "timestamp": 1610721554760,
     "user": {
      "displayName": "JB Abbas",
      "photoUrl": "https://lh3.googleusercontent.com/a-/AOh14GhTEGMJAPYzG0jTyyGZQg1TkQYe1FTxtngw913nCQ=s64",
      "userId": "16604751446320735538"
     },
     "user_tz": 300
    },
    "id": "GpdIKQJOemgi",
    "outputId": "0aa90302-84c6-4804-faeb-7c6403daf958"
   },
   "outputs": [
    {
     "name": "stdout",
     "output_type": "stream",
     "text": [
      "upper case: HELLO lower case: hello\n"
     ]
    }
   ],
   "source": [
    "# Example - Sherif\n",
    "str=\"hello\"\n",
    "print(\"upper case:\",str.upper(),\"lower case:\",str)"
   ]
  },
  {
   "cell_type": "code",
   "execution_count": 31,
   "metadata": {
    "colab": {
     "base_uri": "https://localhost:8080/"
    },
    "executionInfo": {
     "elapsed": 369,
     "status": "ok",
     "timestamp": 1610721573964,
     "user": {
      "displayName": "JB Abbas",
      "photoUrl": "https://lh3.googleusercontent.com/a-/AOh14GhTEGMJAPYzG0jTyyGZQg1TkQYe1FTxtngw913nCQ=s64",
      "userId": "16604751446320735538"
     },
     "user_tz": 300
    },
    "id": "k88fcnwRfJ-Q",
    "outputId": "f4566d9b-7163-4a78-d36c-a59b044fa730"
   },
   "outputs": [
    {
     "name": "stdout",
     "output_type": "stream",
     "text": [
      "Upper case: GOOD MORNING\n",
      "Lower case: good morning\n"
     ]
    }
   ],
   "source": [
    "# Example - Pranita\n",
    "str=\"good morning\"\n",
    "print(\"Upper case:\", str.upper())\n",
    "print(\"Lower case:\", str.lower())"
   ]
  },
  {
   "cell_type": "markdown",
   "metadata": {
    "id": "kuJfu_nTs4SC"
   },
   "source": [
    "After-Class Questions"
   ]
  },
  {
   "cell_type": "code",
   "execution_count": 32,
   "metadata": {
    "id": "hily5fwis8KT"
   },
   "outputs": [
    {
     "name": "stdout",
     "output_type": "stream",
     "text": [
      "Original dictionary: \n",
      " {'icecream': 'Strawberry', 25: 'Vanilla', 35: [1, 2, 3, 4], (5, 6, 7, 8): 'Types of Oranges', (9, 10, 11, 12): (13, 14, 15, 16)}\n",
      "{'icecream': 'Strawberry', 25: 'Mango', 35: [1, 2, 3, 4], (5, 6, 7, 8): 'Types of Oranges', (9, 10, 11, 12): (13, 14, 15, 16)}\n",
      "{'icecream': 'Strawberry', 25: 'Mango', 35: [4, 3, 2, 1], (5, 6, 7, 8): 'Types of Oranges', (9, 10, 11, 12): (13, 14, 15, 16), 55: 'Cone'}\n",
      "{'icecream': 'Strawberry', 25: ['list1', 'list2', 'list3'], 35: [4, 3, 2, 1], (5, 6, 7, 8): 'Types of Oranges', (9, 10, 11, 12): (13, 14, 15, 16), 55: 'Cone'}\n",
      "{'icecream': 'Strawberry', 25: ['list1', 'list2', 'list3'], 35: [4, 3, 2, 1], (5, 6, 7, 8): 'Types of Oranges', (9, 10, 11, 12): (13, 14, 15, 16)}\n"
     ]
    }
   ],
   "source": [
    "# Question from Pranita on how to add items to middle of dictionary\n",
    "\n",
    "dict1 = {}                                      #create a blank dictionary, below we are adding new keys:values to the dictionary\n",
    "dict1[\"icecream\"] = \"Strawberry\"                #pair1; key is a string, value is a string\n",
    "dict1[25] = \"Vanilla\"                           #pair2; key is an int, value is a string\n",
    "dict1[35] = [1,2,3,4]                           #pair3; key is an int, value is a list\n",
    "dict1[(5,6,7,8)] = \"Types of Oranges\"           #pair4; key is a tuple, value is a string\n",
    "dict1[(9,10,11,12)] = (13,14,15,16)             #pair5; key is a list, value is a tuple\n",
    "print(\"Original dictionary: \\n\",dict1)\n",
    "\n",
    "# You cannot use add(), append(), or insert() methods in a dictionary\n",
    "# You can only replace values pairs, update dictionary with unique key:value pairs manually or in bulk through .update function\n",
    "dict1[25] = \"Mango\"                             #replacing dictionary key '25' with a new value, Strawberry with Mango\n",
    "print(dict1)\n",
    "dict1.update({35:[4,3,2,1],55:\"Cone\"})          #update dictionary with a new unique key:value pair; dictionary key 35\n",
    "print(dict1)\n",
    "dict1.update({25:[\"list1\",\"list2\",\"list3\"]})    #replacing dictionary key '25' with a new value of a list\n",
    "print(dict1)\n",
    "\n",
    "#You can only delete keys in a dictionary, which will delete their values; you cannot delete a value by itself unless you replace with 'None'\n",
    "del dict1[55]\n",
    "print(dict1)"
   ]
  },
  {
   "cell_type": "code",
   "execution_count": null,
   "metadata": {},
   "outputs": [],
   "source": []
  },
  {
   "cell_type": "code",
   "execution_count": null,
   "metadata": {},
   "outputs": [],
   "source": []
  }
 ],
 "metadata": {
  "colab": {
   "authorship_tag": "ABX9TyPCRa6rWux2LbB782uuKvLU",
   "collapsed_sections": [],
   "name": "AIDI_1100_01_WEEK2_InClass.ipynb",
   "provenance": []
  },
  "kernelspec": {
   "display_name": "Python 3",
   "language": "python",
   "name": "python3"
  },
  "language_info": {
   "codemirror_mode": {
    "name": "ipython",
    "version": 3
   },
   "file_extension": ".py",
   "mimetype": "text/x-python",
   "name": "python",
   "nbconvert_exporter": "python",
   "pygments_lexer": "ipython3",
   "version": "3.8.6"
  }
 },
 "nbformat": 4,
 "nbformat_minor": 1
}
